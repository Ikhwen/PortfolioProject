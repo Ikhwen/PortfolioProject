{
  "cells": [
    {
      "cell_type": "markdown",
      "metadata": {
        "id": "wSFbIMb87cHu"
      },
      "source": [
        "# **Bioinformation Poliovirus - Data Collection and Pre-Processing**\n",
        "\n",
        "Muhammad Ikhwan Bin Baharuddin\n",
        "\n",
        "[*Ikhwan Github Profile*](https://github.com/Ikhwen)\n",
        "\n",
        "In this Jupyter notebook, I will be building a real-life **data science project** that includes a machine learning model using the ChEMBL bioactivity data.\n",
        "\n",
        "---"
      ]
    },
    {
      "cell_type": "markdown",
      "metadata": {
        "id": "3iQiERxumDor"
      },
      "source": [
        "## **ChEMBL Database**\n",
        "\n",
        "The [*ChEMBL Database*](https://www.ebi.ac.uk/chembl/) is a database that contains curated bioactivity data of more than 2 million compounds. It is compiled from more than 81,000 documents, 1.3 million assays and the data spans 14,000 targets and 1,900 cells and 33,000 indications.\n",
        "[Data as of December 8, 2021]"
      ]
    },
    {
      "cell_type": "markdown",
      "metadata": {
        "id": "iryGAwAIQ4yf"
      },
      "source": [
        "## **Installing libraries**"
      ]
    },
    {
      "cell_type": "markdown",
      "metadata": {
        "id": "toGT1U_B7F2i"
      },
      "source": [
        "Install the ChEMBL web service package so that we can retrieve bioactivity data from the ChEMBL Database."
      ]
    },
    {
      "cell_type": "code",
      "execution_count": null,
      "metadata": {
        "colab": {
          "base_uri": "https://localhost:8080/"
        },
        "id": "cJGExHQBfLh7",
        "outputId": "7e8227ba-d4fb-4e85-e396-2536a8b776cc"
      },
      "outputs": [
        {
          "output_type": "stream",
          "name": "stdout",
          "text": [
            "Collecting chembl_webresource_client\n",
            "  Downloading chembl_webresource_client-0.10.7-py3-none-any.whl (55 kB)\n",
            "\u001b[?25l\r\u001b[K     |██████                          | 10 kB 22.3 MB/s eta 0:00:01\r\u001b[K     |███████████▉                    | 20 kB 26.2 MB/s eta 0:00:01\r\u001b[K     |█████████████████▊              | 30 kB 20.9 MB/s eta 0:00:01\r\u001b[K     |███████████████████████▋        | 40 kB 12.6 MB/s eta 0:00:01\r\u001b[K     |█████████████████████████████▌  | 51 kB 5.6 MB/s eta 0:00:01\r\u001b[K     |████████████████████████████████| 55 kB 2.2 MB/s \n",
            "\u001b[?25hRequirement already satisfied: easydict in /usr/local/lib/python3.7/dist-packages (from chembl_webresource_client) (1.9)\n",
            "Requirement already satisfied: urllib3 in /usr/local/lib/python3.7/dist-packages (from chembl_webresource_client) (1.24.3)\n",
            "Requirement already satisfied: requests>=2.18.4 in /usr/local/lib/python3.7/dist-packages (from chembl_webresource_client) (2.23.0)\n",
            "Collecting requests-cache~=0.7.0\n",
            "  Downloading requests_cache-0.7.5-py3-none-any.whl (39 kB)\n",
            "Requirement already satisfied: chardet<4,>=3.0.2 in /usr/local/lib/python3.7/dist-packages (from requests>=2.18.4->chembl_webresource_client) (3.0.4)\n",
            "Requirement already satisfied: idna<3,>=2.5 in /usr/local/lib/python3.7/dist-packages (from requests>=2.18.4->chembl_webresource_client) (2.10)\n",
            "Requirement already satisfied: certifi>=2017.4.17 in /usr/local/lib/python3.7/dist-packages (from requests>=2.18.4->chembl_webresource_client) (2021.10.8)\n",
            "Collecting url-normalize<2.0,>=1.4\n",
            "  Downloading url_normalize-1.4.3-py2.py3-none-any.whl (6.8 kB)\n",
            "Collecting itsdangerous>=2.0.1\n",
            "  Downloading itsdangerous-2.0.1-py3-none-any.whl (18 kB)\n",
            "Requirement already satisfied: attrs<22.0,>=21.2 in /usr/local/lib/python3.7/dist-packages (from requests-cache~=0.7.0->chembl_webresource_client) (21.2.0)\n",
            "Collecting pyyaml>=5.4\n",
            "  Downloading PyYAML-6.0-cp37-cp37m-manylinux_2_5_x86_64.manylinux1_x86_64.manylinux_2_12_x86_64.manylinux2010_x86_64.whl (596 kB)\n",
            "\u001b[K     |████████████████████████████████| 596 kB 18.2 MB/s \n",
            "\u001b[?25hRequirement already satisfied: six in /usr/local/lib/python3.7/dist-packages (from url-normalize<2.0,>=1.4->requests-cache~=0.7.0->chembl_webresource_client) (1.15.0)\n",
            "Installing collected packages: url-normalize, pyyaml, itsdangerous, requests-cache, chembl-webresource-client\n",
            "  Attempting uninstall: pyyaml\n",
            "    Found existing installation: PyYAML 3.13\n",
            "    Uninstalling PyYAML-3.13:\n",
            "      Successfully uninstalled PyYAML-3.13\n",
            "  Attempting uninstall: itsdangerous\n",
            "    Found existing installation: itsdangerous 1.1.0\n",
            "    Uninstalling itsdangerous-1.1.0:\n",
            "      Successfully uninstalled itsdangerous-1.1.0\n",
            "\u001b[31mERROR: pip's dependency resolver does not currently take into account all the packages that are installed. This behaviour is the source of the following dependency conflicts.\n",
            "flask 1.1.4 requires itsdangerous<2.0,>=0.24, but you have itsdangerous 2.0.1 which is incompatible.\u001b[0m\n",
            "Successfully installed chembl-webresource-client-0.10.7 itsdangerous-2.0.1 pyyaml-6.0 requests-cache-0.7.5 url-normalize-1.4.3\n"
          ]
        }
      ],
      "source": [
        "! pip install chembl_webresource_client"
      ]
    },
    {
      "cell_type": "markdown",
      "metadata": {
        "id": "J0kJjL8gb5nX"
      },
      "source": [
        "## **Importing libraries**"
      ]
    },
    {
      "cell_type": "code",
      "execution_count": null,
      "metadata": {
        "id": "RXoCvMPPfNrv"
      },
      "outputs": [],
      "source": [
        "import pandas as pd\n",
        "from chembl_webresource_client.new_client import new_client"
      ]
    },
    {
      "cell_type": "markdown",
      "metadata": {
        "id": "95ZD_Yl2crMu"
      },
      "source": [
        "For more information please reffer to [*Chembl webresource client GitHub*](https://github.com/chembl/chembl_webresource_client/)"
      ]
    },
    {
      "cell_type": "code",
      "execution_count": null,
      "metadata": {
        "colab": {
          "base_uri": "https://localhost:8080/"
        },
        "id": "wb_dN7IpcrMu",
        "outputId": "7a79f799-3f46-4b1d-e235-6265d3699b3c"
      },
      "outputs": [
        {
          "output_type": "execute_result",
          "data": {
            "text/plain": [
              "['__class__',\n",
              " '__delattr__',\n",
              " '__dict__',\n",
              " '__dir__',\n",
              " '__doc__',\n",
              " '__eq__',\n",
              " '__format__',\n",
              " '__ge__',\n",
              " '__getattribute__',\n",
              " '__gt__',\n",
              " '__hash__',\n",
              " '__init__',\n",
              " '__init_subclass__',\n",
              " '__le__',\n",
              " '__lt__',\n",
              " '__module__',\n",
              " '__ne__',\n",
              " '__new__',\n",
              " '__reduce__',\n",
              " '__reduce_ex__',\n",
              " '__repr__',\n",
              " '__setattr__',\n",
              " '__sizeof__',\n",
              " '__str__',\n",
              " '__subclasshook__',\n",
              " '__weakref__',\n",
              " 'activity',\n",
              " 'activity_supplementary_data_by_activity',\n",
              " 'assay',\n",
              " 'assay_class',\n",
              " 'atc_class',\n",
              " 'binding_site',\n",
              " 'biotherapeutic',\n",
              " 'cell_line',\n",
              " 'chembl_id_lookup',\n",
              " 'compound_record',\n",
              " 'compound_structural_alert',\n",
              " 'description',\n",
              " 'document',\n",
              " 'document_similarity',\n",
              " 'drug',\n",
              " 'drug_indication',\n",
              " 'drug_warning',\n",
              " 'go_slim',\n",
              " 'image',\n",
              " 'mechanism',\n",
              " 'metabolism',\n",
              " 'molecule',\n",
              " 'molecule_form',\n",
              " 'official',\n",
              " 'organism',\n",
              " 'protein_class',\n",
              " 'similarity',\n",
              " 'source',\n",
              " 'substructure',\n",
              " 'target',\n",
              " 'target_component',\n",
              " 'target_relation',\n",
              " 'tissue',\n",
              " 'xref_source']"
            ]
          },
          "metadata": {},
          "execution_count": 3
        }
      ],
      "source": [
        "dir(new_client)"
      ]
    },
    {
      "cell_type": "markdown",
      "metadata": {
        "id": "1FgUai1bfigC"
      },
      "source": [
        "## **Determining the search**"
      ]
    },
    {
      "cell_type": "markdown",
      "metadata": {
        "id": "7lBsDrD0gAqH"
      },
      "source": [
        "### **Target search for poliovirus**"
      ]
    },
    {
      "cell_type": "code",
      "execution_count": null,
      "metadata": {
        "colab": {
          "base_uri": "https://localhost:8080/",
          "height": 269
        },
        "id": "Vxtp79so4ZjF",
        "outputId": "42b32ae4-5804-4ffe-ac20-0bda94bfeb8f"
      },
      "outputs": [
        {
          "output_type": "execute_result",
          "data": {
            "text/html": [
              "<div>\n",
              "<style scoped>\n",
              "    .dataframe tbody tr th:only-of-type {\n",
              "        vertical-align: middle;\n",
              "    }\n",
              "\n",
              "    .dataframe tbody tr th {\n",
              "        vertical-align: top;\n",
              "    }\n",
              "\n",
              "    .dataframe thead th {\n",
              "        text-align: right;\n",
              "    }\n",
              "</style>\n",
              "<table border=\"1\" class=\"dataframe\">\n",
              "  <thead>\n",
              "    <tr style=\"text-align: right;\">\n",
              "      <th></th>\n",
              "      <th>cross_references</th>\n",
              "      <th>organism</th>\n",
              "      <th>pref_name</th>\n",
              "      <th>score</th>\n",
              "      <th>species_group_flag</th>\n",
              "      <th>target_chembl_id</th>\n",
              "      <th>target_components</th>\n",
              "      <th>target_type</th>\n",
              "      <th>tax_id</th>\n",
              "    </tr>\n",
              "  </thead>\n",
              "  <tbody>\n",
              "    <tr>\n",
              "      <th>0</th>\n",
              "      <td>[]</td>\n",
              "      <td>Homo sapiens</td>\n",
              "      <td>Nectin-4</td>\n",
              "      <td>19.0</td>\n",
              "      <td>False</td>\n",
              "      <td>CHEMBL3712928</td>\n",
              "      <td>[{'accession': 'Q96NY8', 'component_descriptio...</td>\n",
              "      <td>SINGLE PROTEIN</td>\n",
              "      <td>9606</td>\n",
              "    </tr>\n",
              "    <tr>\n",
              "      <th>1</th>\n",
              "      <td>[]</td>\n",
              "      <td>Human enterovirus C</td>\n",
              "      <td>Poliovirus</td>\n",
              "      <td>17.0</td>\n",
              "      <td>False</td>\n",
              "      <td>CHEMBL612462</td>\n",
              "      <td>[]</td>\n",
              "      <td>ORGANISM</td>\n",
              "      <td>138950</td>\n",
              "    </tr>\n",
              "    <tr>\n",
              "      <th>2</th>\n",
              "      <td>[]</td>\n",
              "      <td>Human poliovirus 1</td>\n",
              "      <td>Human poliovirus 1</td>\n",
              "      <td>13.0</td>\n",
              "      <td>False</td>\n",
              "      <td>CHEMBL613556</td>\n",
              "      <td>[]</td>\n",
              "      <td>ORGANISM</td>\n",
              "      <td>12080</td>\n",
              "    </tr>\n",
              "    <tr>\n",
              "      <th>3</th>\n",
              "      <td>[]</td>\n",
              "      <td>Human poliovirus 3</td>\n",
              "      <td>Human poliovirus 3</td>\n",
              "      <td>13.0</td>\n",
              "      <td>False</td>\n",
              "      <td>CHEMBL613557</td>\n",
              "      <td>[]</td>\n",
              "      <td>ORGANISM</td>\n",
              "      <td>12086</td>\n",
              "    </tr>\n",
              "    <tr>\n",
              "      <th>4</th>\n",
              "      <td>[]</td>\n",
              "      <td>Human poliovirus 2</td>\n",
              "      <td>Human poliovirus 2</td>\n",
              "      <td>13.0</td>\n",
              "      <td>False</td>\n",
              "      <td>CHEMBL613752</td>\n",
              "      <td>[]</td>\n",
              "      <td>ORGANISM</td>\n",
              "      <td>12083</td>\n",
              "    </tr>\n",
              "    <tr>\n",
              "      <th>5</th>\n",
              "      <td>[{'xref_id': 'P03300', 'xref_name': None, 'xre...</td>\n",
              "      <td>Human poliovirus 1 Mahoney</td>\n",
              "      <td>Poliovirus type 1 polyprotein</td>\n",
              "      <td>11.0</td>\n",
              "      <td>False</td>\n",
              "      <td>CHEMBL5127</td>\n",
              "      <td>[{'accession': 'P03300', 'component_descriptio...</td>\n",
              "      <td>SINGLE PROTEIN</td>\n",
              "      <td>12081</td>\n",
              "    </tr>\n",
              "    <tr>\n",
              "      <th>6</th>\n",
              "      <td>[]</td>\n",
              "      <td>Human poliovirus 1 strain Sabin</td>\n",
              "      <td>Human poliovirus 1 strain Sabin</td>\n",
              "      <td>10.0</td>\n",
              "      <td>False</td>\n",
              "      <td>CHEMBL2366966</td>\n",
              "      <td>[]</td>\n",
              "      <td>ORGANISM</td>\n",
              "      <td>12082</td>\n",
              "    </tr>\n",
              "  </tbody>\n",
              "</table>\n",
              "</div>"
            ],
            "text/plain": [
              "                                    cross_references  ...  tax_id\n",
              "0                                                 []  ...    9606\n",
              "1                                                 []  ...  138950\n",
              "2                                                 []  ...   12080\n",
              "3                                                 []  ...   12086\n",
              "4                                                 []  ...   12083\n",
              "5  [{'xref_id': 'P03300', 'xref_name': None, 'xre...  ...   12081\n",
              "6                                                 []  ...   12082\n",
              "\n",
              "[7 rows x 9 columns]"
            ]
          },
          "metadata": {},
          "execution_count": 58
        }
      ],
      "source": [
        "target = new_client.target\n",
        "target_query = target.search('poliovirus')\n",
        "targets = pd.DataFrame.from_dict(target_query)\n",
        "targets"
      ]
    },
    {
      "cell_type": "markdown",
      "metadata": {
        "id": "Y5OPfEALjAfZ"
      },
      "source": [
        "### **Select and retrieve bioactivity data for *Polio Virus* (fifth entry)**\n"
      ]
    },
    {
      "cell_type": "markdown",
      "metadata": {
        "id": "gSQ3aroOgML7"
      },
      "source": [
        "We will assign the fifth entry (which corresponds to the target protein) to the ***selected_target*** variable "
      ]
    },
    {
      "cell_type": "code",
      "execution_count": null,
      "metadata": {
        "colab": {
          "base_uri": "https://localhost:8080/",
          "height": 36
        },
        "id": "StrcHMVLha7u",
        "outputId": "010c1465-758c-4965-c68b-eabaf723cc48"
      },
      "outputs": [
        {
          "output_type": "execute_result",
          "data": {
            "application/vnd.google.colaboratory.intrinsic+json": {
              "type": "string"
            },
            "text/plain": [
              "'CHEMBL5127'"
            ]
          },
          "metadata": {},
          "execution_count": 59
        }
      ],
      "source": [
        "selected_target = targets.target_chembl_id[5]\n",
        "selected_target"
      ]
    },
    {
      "cell_type": "code",
      "source": [
        "#finding out target_organism\n",
        "\n",
        "targets.organism.unique()"
      ],
      "metadata": {
        "colab": {
          "base_uri": "https://localhost:8080/"
        },
        "id": "YQI2mn-NeCGb",
        "outputId": "6bdd68a5-56a9-4290-c19b-828d835febc6"
      },
      "execution_count": null,
      "outputs": [
        {
          "output_type": "execute_result",
          "data": {
            "text/plain": [
              "array(['Homo sapiens', 'Human enterovirus C', 'Human poliovirus 1',\n",
              "       'Human poliovirus 3', 'Human poliovirus 2',\n",
              "       'Human poliovirus 1 Mahoney', 'Human poliovirus 1 strain Sabin'],\n",
              "      dtype=object)"
            ]
          },
          "metadata": {},
          "execution_count": 60
        }
      ]
    },
    {
      "cell_type": "markdown",
      "metadata": {
        "id": "GWd2DRalgjzB"
      },
      "source": [
        "Here, we will retrieve only bioactivity data for *Poliovirus type 1 polyprotein* (CHEMBL5127) and organism (Homo Sapiens) "
      ]
    },
    {
      "cell_type": "code",
      "execution_count": null,
      "metadata": {
        "colab": {
          "base_uri": "https://localhost:8080/",
          "height": 268
        },
        "id": "LeFbV_CsSP8D",
        "outputId": "0841e1fa-b9cb-4bc7-8d5b-cfe613c33a03"
      },
      "outputs": [
        {
          "output_type": "execute_result",
          "data": {
            "text/html": [
              "<div>\n",
              "<style scoped>\n",
              "    .dataframe tbody tr th:only-of-type {\n",
              "        vertical-align: middle;\n",
              "    }\n",
              "\n",
              "    .dataframe tbody tr th {\n",
              "        vertical-align: top;\n",
              "    }\n",
              "\n",
              "    .dataframe thead th {\n",
              "        text-align: right;\n",
              "    }\n",
              "</style>\n",
              "<table border=\"1\" class=\"dataframe\">\n",
              "  <thead>\n",
              "    <tr style=\"text-align: right;\">\n",
              "      <th></th>\n",
              "      <th>activity_comment</th>\n",
              "      <th>activity_id</th>\n",
              "      <th>activity_properties</th>\n",
              "      <th>assay_chembl_id</th>\n",
              "      <th>assay_description</th>\n",
              "      <th>assay_type</th>\n",
              "      <th>assay_variant_accession</th>\n",
              "      <th>assay_variant_mutation</th>\n",
              "      <th>bao_endpoint</th>\n",
              "      <th>bao_format</th>\n",
              "      <th>bao_label</th>\n",
              "      <th>canonical_smiles</th>\n",
              "      <th>data_validity_comment</th>\n",
              "      <th>data_validity_description</th>\n",
              "      <th>document_chembl_id</th>\n",
              "      <th>document_journal</th>\n",
              "      <th>document_year</th>\n",
              "      <th>ligand_efficiency</th>\n",
              "      <th>molecule_chembl_id</th>\n",
              "      <th>molecule_pref_name</th>\n",
              "      <th>parent_molecule_chembl_id</th>\n",
              "      <th>pchembl_value</th>\n",
              "      <th>potential_duplicate</th>\n",
              "      <th>qudt_units</th>\n",
              "      <th>record_id</th>\n",
              "      <th>relation</th>\n",
              "      <th>src_id</th>\n",
              "      <th>standard_flag</th>\n",
              "      <th>standard_relation</th>\n",
              "      <th>standard_text_value</th>\n",
              "      <th>standard_type</th>\n",
              "      <th>standard_units</th>\n",
              "      <th>standard_upper_value</th>\n",
              "      <th>standard_value</th>\n",
              "      <th>target_chembl_id</th>\n",
              "      <th>target_organism</th>\n",
              "      <th>target_pref_name</th>\n",
              "      <th>target_tax_id</th>\n",
              "      <th>text_value</th>\n",
              "      <th>toid</th>\n",
              "      <th>type</th>\n",
              "      <th>units</th>\n",
              "      <th>uo_units</th>\n",
              "      <th>upper_value</th>\n",
              "      <th>value</th>\n",
              "    </tr>\n",
              "  </thead>\n",
              "  <tbody>\n",
              "    <tr>\n",
              "      <th>0</th>\n",
              "      <td>None</td>\n",
              "      <td>144743</td>\n",
              "      <td>[]</td>\n",
              "      <td>CHEMBL771458</td>\n",
              "      <td>Inhibitory activity against polio virus RNA po...</td>\n",
              "      <td>B</td>\n",
              "      <td>None</td>\n",
              "      <td>None</td>\n",
              "      <td>BAO_0000190</td>\n",
              "      <td>BAO_0000357</td>\n",
              "      <td>single protein format</td>\n",
              "      <td>O=C(O)c1ccc2c(c1)nc(-c1cccs1)n2C1CCCCC1</td>\n",
              "      <td>Outside typical range</td>\n",
              "      <td>Values for this activity type are unusually la...</td>\n",
              "      <td>CHEMBL1149223</td>\n",
              "      <td>Bioorg. Med. Chem. Lett.</td>\n",
              "      <td>2004</td>\n",
              "      <td>None</td>\n",
              "      <td>CHEMBL174629</td>\n",
              "      <td>None</td>\n",
              "      <td>CHEMBL174629</td>\n",
              "      <td>None</td>\n",
              "      <td>False</td>\n",
              "      <td>http://www.openphacts.org/units/Nanomolar</td>\n",
              "      <td>350900</td>\n",
              "      <td>&gt;</td>\n",
              "      <td>1</td>\n",
              "      <td>True</td>\n",
              "      <td>&gt;</td>\n",
              "      <td>None</td>\n",
              "      <td>IC50</td>\n",
              "      <td>nM</td>\n",
              "      <td>None</td>\n",
              "      <td>250000.0</td>\n",
              "      <td>CHEMBL5127</td>\n",
              "      <td>Human poliovirus 1 Mahoney</td>\n",
              "      <td>Poliovirus type 1 polyprotein</td>\n",
              "      <td>12081</td>\n",
              "      <td>None</td>\n",
              "      <td>None</td>\n",
              "      <td>IC50</td>\n",
              "      <td>uM</td>\n",
              "      <td>UO_0000065</td>\n",
              "      <td>None</td>\n",
              "      <td>250.0</td>\n",
              "    </tr>\n",
              "    <tr>\n",
              "      <th>1</th>\n",
              "      <td>None</td>\n",
              "      <td>145888</td>\n",
              "      <td>[]</td>\n",
              "      <td>CHEMBL771458</td>\n",
              "      <td>Inhibitory activity against polio virus RNA po...</td>\n",
              "      <td>B</td>\n",
              "      <td>None</td>\n",
              "      <td>None</td>\n",
              "      <td>BAO_0000190</td>\n",
              "      <td>BAO_0000357</td>\n",
              "      <td>single protein format</td>\n",
              "      <td>O=C(O)c1ccc2c(c1)nc(-c1ccncc1)n2C1CCCCC1</td>\n",
              "      <td>Outside typical range</td>\n",
              "      <td>Values for this activity type are unusually la...</td>\n",
              "      <td>CHEMBL1149223</td>\n",
              "      <td>Bioorg. Med. Chem. Lett.</td>\n",
              "      <td>2004</td>\n",
              "      <td>None</td>\n",
              "      <td>CHEMBL174836</td>\n",
              "      <td>None</td>\n",
              "      <td>CHEMBL174836</td>\n",
              "      <td>None</td>\n",
              "      <td>False</td>\n",
              "      <td>http://www.openphacts.org/units/Nanomolar</td>\n",
              "      <td>350893</td>\n",
              "      <td>&gt;</td>\n",
              "      <td>1</td>\n",
              "      <td>True</td>\n",
              "      <td>&gt;</td>\n",
              "      <td>None</td>\n",
              "      <td>IC50</td>\n",
              "      <td>nM</td>\n",
              "      <td>None</td>\n",
              "      <td>500000.0</td>\n",
              "      <td>CHEMBL5127</td>\n",
              "      <td>Human poliovirus 1 Mahoney</td>\n",
              "      <td>Poliovirus type 1 polyprotein</td>\n",
              "      <td>12081</td>\n",
              "      <td>None</td>\n",
              "      <td>None</td>\n",
              "      <td>IC50</td>\n",
              "      <td>uM</td>\n",
              "      <td>UO_0000065</td>\n",
              "      <td>None</td>\n",
              "      <td>500.0</td>\n",
              "    </tr>\n",
              "    <tr>\n",
              "      <th>2</th>\n",
              "      <td>None</td>\n",
              "      <td>147043</td>\n",
              "      <td>[]</td>\n",
              "      <td>CHEMBL771458</td>\n",
              "      <td>Inhibitory activity against polio virus RNA po...</td>\n",
              "      <td>B</td>\n",
              "      <td>None</td>\n",
              "      <td>None</td>\n",
              "      <td>BAO_0000190</td>\n",
              "      <td>BAO_0000357</td>\n",
              "      <td>single protein format</td>\n",
              "      <td>CC1CCCCC1n1c(-c2ccccn2)nc2cc(C(=O)O)ccc21</td>\n",
              "      <td>Outside typical range</td>\n",
              "      <td>Values for this activity type are unusually la...</td>\n",
              "      <td>CHEMBL1149223</td>\n",
              "      <td>Bioorg. Med. Chem. Lett.</td>\n",
              "      <td>2004</td>\n",
              "      <td>None</td>\n",
              "      <td>CHEMBL174542</td>\n",
              "      <td>None</td>\n",
              "      <td>CHEMBL174542</td>\n",
              "      <td>None</td>\n",
              "      <td>False</td>\n",
              "      <td>http://www.openphacts.org/units/Nanomolar</td>\n",
              "      <td>350881</td>\n",
              "      <td>&gt;</td>\n",
              "      <td>1</td>\n",
              "      <td>True</td>\n",
              "      <td>&gt;</td>\n",
              "      <td>None</td>\n",
              "      <td>IC50</td>\n",
              "      <td>nM</td>\n",
              "      <td>None</td>\n",
              "      <td>500000.0</td>\n",
              "      <td>CHEMBL5127</td>\n",
              "      <td>Human poliovirus 1 Mahoney</td>\n",
              "      <td>Poliovirus type 1 polyprotein</td>\n",
              "      <td>12081</td>\n",
              "      <td>None</td>\n",
              "      <td>None</td>\n",
              "      <td>IC50</td>\n",
              "      <td>uM</td>\n",
              "      <td>UO_0000065</td>\n",
              "      <td>None</td>\n",
              "      <td>500.0</td>\n",
              "    </tr>\n",
              "  </tbody>\n",
              "</table>\n",
              "</div>"
            ],
            "text/plain": [
              "  activity_comment  activity_id  ... upper_value  value\n",
              "0             None       144743  ...        None  250.0\n",
              "1             None       145888  ...        None  500.0\n",
              "2             None       147043  ...        None  500.0\n",
              "\n",
              "[3 rows x 45 columns]"
            ]
          },
          "metadata": {},
          "execution_count": 63
        }
      ],
      "source": [
        "activity = new_client.activity #new activity always use new_client\n",
        "res = activity.filter(target_chembl_id=selected_target).filter(organism='homo sapiens')\n",
        "df = pd.DataFrame.from_dict(res)\n",
        "df.head(3)"
      ]
    },
    {
      "cell_type": "markdown",
      "metadata": {
        "id": "fQ78N26Fg15T"
      },
      "source": [
        "Finally we will save the resulting bioactivity data to a CSV file **bioactivity_data.csv**."
      ]
    },
    {
      "cell_type": "code",
      "execution_count": null,
      "metadata": {
        "id": "ZvUUEIVxTOH1"
      },
      "outputs": [],
      "source": [
        "df.to_csv('Poliovirus(homosapiens).csv', index=False)"
      ]
    },
    {
      "cell_type": "markdown",
      "source": [
        "Saving a csv file when using Google Collab"
      ],
      "metadata": {
        "id": "vvv_DdqBgtz6"
      }
    },
    {
      "cell_type": "code",
      "source": [
        "from google.colab import files\n",
        "df.to_csv('Poliovirus(homosapiens).csv', index=False)\n",
        "files.download('Poliovirus(homosapiens).csv')"
      ],
      "metadata": {
        "colab": {
          "base_uri": "https://localhost:8080/",
          "height": 17
        },
        "id": "3RlS-atGge6e",
        "outputId": "6b0395b6-39c3-436e-ac18-436045a059da"
      },
      "execution_count": null,
      "outputs": [
        {
          "output_type": "display_data",
          "data": {
            "application/javascript": [
              "\n",
              "    async function download(id, filename, size) {\n",
              "      if (!google.colab.kernel.accessAllowed) {\n",
              "        return;\n",
              "      }\n",
              "      const div = document.createElement('div');\n",
              "      const label = document.createElement('label');\n",
              "      label.textContent = `Downloading \"${filename}\": `;\n",
              "      div.appendChild(label);\n",
              "      const progress = document.createElement('progress');\n",
              "      progress.max = size;\n",
              "      div.appendChild(progress);\n",
              "      document.body.appendChild(div);\n",
              "\n",
              "      const buffers = [];\n",
              "      let downloaded = 0;\n",
              "\n",
              "      const channel = await google.colab.kernel.comms.open(id);\n",
              "      // Send a message to notify the kernel that we're ready.\n",
              "      channel.send({})\n",
              "\n",
              "      for await (const message of channel.messages) {\n",
              "        // Send a message to notify the kernel that we're ready.\n",
              "        channel.send({})\n",
              "        if (message.buffers) {\n",
              "          for (const buffer of message.buffers) {\n",
              "            buffers.push(buffer);\n",
              "            downloaded += buffer.byteLength;\n",
              "            progress.value = downloaded;\n",
              "          }\n",
              "        }\n",
              "      }\n",
              "      const blob = new Blob(buffers, {type: 'application/binary'});\n",
              "      const a = document.createElement('a');\n",
              "      a.href = window.URL.createObjectURL(blob);\n",
              "      a.download = filename;\n",
              "      div.appendChild(a);\n",
              "      a.click();\n",
              "      div.remove();\n",
              "    }\n",
              "  "
            ],
            "text/plain": [
              "<IPython.core.display.Javascript object>"
            ]
          },
          "metadata": {}
        },
        {
          "output_type": "display_data",
          "data": {
            "application/javascript": [
              "download(\"download_488a05a1-0a93-4b8e-909e-aa730dc42b7a\", \"Poliovirus(homosapiens).csv\", 11385)"
            ],
            "text/plain": [
              "<IPython.core.display.Javascript object>"
            ]
          },
          "metadata": {}
        }
      ]
    },
    {
      "cell_type": "markdown",
      "metadata": {
        "id": "_GXMpFNUOn_8"
      },
      "source": [
        "## **Handling missing data**\n",
        "If any compounds has missing value for the **standard_value** column then drop it"
      ]
    },
    {
      "cell_type": "code",
      "execution_count": null,
      "metadata": {
        "colab": {
          "base_uri": "https://localhost:8080/",
          "height": 268
        },
        "id": "hkVOdk6ZR396",
        "outputId": "5f01dd62-bfeb-45dd-d286-d3e8ccf2ac1c"
      },
      "outputs": [
        {
          "output_type": "execute_result",
          "data": {
            "text/html": [
              "<div>\n",
              "<style scoped>\n",
              "    .dataframe tbody tr th:only-of-type {\n",
              "        vertical-align: middle;\n",
              "    }\n",
              "\n",
              "    .dataframe tbody tr th {\n",
              "        vertical-align: top;\n",
              "    }\n",
              "\n",
              "    .dataframe thead th {\n",
              "        text-align: right;\n",
              "    }\n",
              "</style>\n",
              "<table border=\"1\" class=\"dataframe\">\n",
              "  <thead>\n",
              "    <tr style=\"text-align: right;\">\n",
              "      <th></th>\n",
              "      <th>activity_comment</th>\n",
              "      <th>activity_id</th>\n",
              "      <th>activity_properties</th>\n",
              "      <th>assay_chembl_id</th>\n",
              "      <th>assay_description</th>\n",
              "      <th>assay_type</th>\n",
              "      <th>assay_variant_accession</th>\n",
              "      <th>assay_variant_mutation</th>\n",
              "      <th>bao_endpoint</th>\n",
              "      <th>bao_format</th>\n",
              "      <th>bao_label</th>\n",
              "      <th>canonical_smiles</th>\n",
              "      <th>data_validity_comment</th>\n",
              "      <th>data_validity_description</th>\n",
              "      <th>document_chembl_id</th>\n",
              "      <th>document_journal</th>\n",
              "      <th>document_year</th>\n",
              "      <th>ligand_efficiency</th>\n",
              "      <th>molecule_chembl_id</th>\n",
              "      <th>molecule_pref_name</th>\n",
              "      <th>parent_molecule_chembl_id</th>\n",
              "      <th>pchembl_value</th>\n",
              "      <th>potential_duplicate</th>\n",
              "      <th>qudt_units</th>\n",
              "      <th>record_id</th>\n",
              "      <th>relation</th>\n",
              "      <th>src_id</th>\n",
              "      <th>standard_flag</th>\n",
              "      <th>standard_relation</th>\n",
              "      <th>standard_text_value</th>\n",
              "      <th>standard_type</th>\n",
              "      <th>standard_units</th>\n",
              "      <th>standard_upper_value</th>\n",
              "      <th>standard_value</th>\n",
              "      <th>target_chembl_id</th>\n",
              "      <th>target_organism</th>\n",
              "      <th>target_pref_name</th>\n",
              "      <th>target_tax_id</th>\n",
              "      <th>text_value</th>\n",
              "      <th>toid</th>\n",
              "      <th>type</th>\n",
              "      <th>units</th>\n",
              "      <th>uo_units</th>\n",
              "      <th>upper_value</th>\n",
              "      <th>value</th>\n",
              "    </tr>\n",
              "  </thead>\n",
              "  <tbody>\n",
              "    <tr>\n",
              "      <th>0</th>\n",
              "      <td>None</td>\n",
              "      <td>144743</td>\n",
              "      <td>[]</td>\n",
              "      <td>CHEMBL771458</td>\n",
              "      <td>Inhibitory activity against polio virus RNA po...</td>\n",
              "      <td>B</td>\n",
              "      <td>None</td>\n",
              "      <td>None</td>\n",
              "      <td>BAO_0000190</td>\n",
              "      <td>BAO_0000357</td>\n",
              "      <td>single protein format</td>\n",
              "      <td>O=C(O)c1ccc2c(c1)nc(-c1cccs1)n2C1CCCCC1</td>\n",
              "      <td>Outside typical range</td>\n",
              "      <td>Values for this activity type are unusually la...</td>\n",
              "      <td>CHEMBL1149223</td>\n",
              "      <td>Bioorg. Med. Chem. Lett.</td>\n",
              "      <td>2004</td>\n",
              "      <td>None</td>\n",
              "      <td>CHEMBL174629</td>\n",
              "      <td>None</td>\n",
              "      <td>CHEMBL174629</td>\n",
              "      <td>None</td>\n",
              "      <td>False</td>\n",
              "      <td>http://www.openphacts.org/units/Nanomolar</td>\n",
              "      <td>350900</td>\n",
              "      <td>&gt;</td>\n",
              "      <td>1</td>\n",
              "      <td>True</td>\n",
              "      <td>&gt;</td>\n",
              "      <td>None</td>\n",
              "      <td>IC50</td>\n",
              "      <td>nM</td>\n",
              "      <td>None</td>\n",
              "      <td>250000.0</td>\n",
              "      <td>CHEMBL5127</td>\n",
              "      <td>Human poliovirus 1 Mahoney</td>\n",
              "      <td>Poliovirus type 1 polyprotein</td>\n",
              "      <td>12081</td>\n",
              "      <td>None</td>\n",
              "      <td>None</td>\n",
              "      <td>IC50</td>\n",
              "      <td>uM</td>\n",
              "      <td>UO_0000065</td>\n",
              "      <td>None</td>\n",
              "      <td>250.0</td>\n",
              "    </tr>\n",
              "    <tr>\n",
              "      <th>1</th>\n",
              "      <td>None</td>\n",
              "      <td>145888</td>\n",
              "      <td>[]</td>\n",
              "      <td>CHEMBL771458</td>\n",
              "      <td>Inhibitory activity against polio virus RNA po...</td>\n",
              "      <td>B</td>\n",
              "      <td>None</td>\n",
              "      <td>None</td>\n",
              "      <td>BAO_0000190</td>\n",
              "      <td>BAO_0000357</td>\n",
              "      <td>single protein format</td>\n",
              "      <td>O=C(O)c1ccc2c(c1)nc(-c1ccncc1)n2C1CCCCC1</td>\n",
              "      <td>Outside typical range</td>\n",
              "      <td>Values for this activity type are unusually la...</td>\n",
              "      <td>CHEMBL1149223</td>\n",
              "      <td>Bioorg. Med. Chem. Lett.</td>\n",
              "      <td>2004</td>\n",
              "      <td>None</td>\n",
              "      <td>CHEMBL174836</td>\n",
              "      <td>None</td>\n",
              "      <td>CHEMBL174836</td>\n",
              "      <td>None</td>\n",
              "      <td>False</td>\n",
              "      <td>http://www.openphacts.org/units/Nanomolar</td>\n",
              "      <td>350893</td>\n",
              "      <td>&gt;</td>\n",
              "      <td>1</td>\n",
              "      <td>True</td>\n",
              "      <td>&gt;</td>\n",
              "      <td>None</td>\n",
              "      <td>IC50</td>\n",
              "      <td>nM</td>\n",
              "      <td>None</td>\n",
              "      <td>500000.0</td>\n",
              "      <td>CHEMBL5127</td>\n",
              "      <td>Human poliovirus 1 Mahoney</td>\n",
              "      <td>Poliovirus type 1 polyprotein</td>\n",
              "      <td>12081</td>\n",
              "      <td>None</td>\n",
              "      <td>None</td>\n",
              "      <td>IC50</td>\n",
              "      <td>uM</td>\n",
              "      <td>UO_0000065</td>\n",
              "      <td>None</td>\n",
              "      <td>500.0</td>\n",
              "    </tr>\n",
              "    <tr>\n",
              "      <th>2</th>\n",
              "      <td>None</td>\n",
              "      <td>147043</td>\n",
              "      <td>[]</td>\n",
              "      <td>CHEMBL771458</td>\n",
              "      <td>Inhibitory activity against polio virus RNA po...</td>\n",
              "      <td>B</td>\n",
              "      <td>None</td>\n",
              "      <td>None</td>\n",
              "      <td>BAO_0000190</td>\n",
              "      <td>BAO_0000357</td>\n",
              "      <td>single protein format</td>\n",
              "      <td>CC1CCCCC1n1c(-c2ccccn2)nc2cc(C(=O)O)ccc21</td>\n",
              "      <td>Outside typical range</td>\n",
              "      <td>Values for this activity type are unusually la...</td>\n",
              "      <td>CHEMBL1149223</td>\n",
              "      <td>Bioorg. Med. Chem. Lett.</td>\n",
              "      <td>2004</td>\n",
              "      <td>None</td>\n",
              "      <td>CHEMBL174542</td>\n",
              "      <td>None</td>\n",
              "      <td>CHEMBL174542</td>\n",
              "      <td>None</td>\n",
              "      <td>False</td>\n",
              "      <td>http://www.openphacts.org/units/Nanomolar</td>\n",
              "      <td>350881</td>\n",
              "      <td>&gt;</td>\n",
              "      <td>1</td>\n",
              "      <td>True</td>\n",
              "      <td>&gt;</td>\n",
              "      <td>None</td>\n",
              "      <td>IC50</td>\n",
              "      <td>nM</td>\n",
              "      <td>None</td>\n",
              "      <td>500000.0</td>\n",
              "      <td>CHEMBL5127</td>\n",
              "      <td>Human poliovirus 1 Mahoney</td>\n",
              "      <td>Poliovirus type 1 polyprotein</td>\n",
              "      <td>12081</td>\n",
              "      <td>None</td>\n",
              "      <td>None</td>\n",
              "      <td>IC50</td>\n",
              "      <td>uM</td>\n",
              "      <td>UO_0000065</td>\n",
              "      <td>None</td>\n",
              "      <td>500.0</td>\n",
              "    </tr>\n",
              "  </tbody>\n",
              "</table>\n",
              "</div>"
            ],
            "text/plain": [
              "  activity_comment  activity_id  ... upper_value  value\n",
              "0             None       144743  ...        None  250.0\n",
              "1             None       145888  ...        None  500.0\n",
              "2             None       147043  ...        None  500.0\n",
              "\n",
              "[3 rows x 45 columns]"
            ]
          },
          "metadata": {},
          "execution_count": 66
        }
      ],
      "source": [
        "df2 = df[df.standard_value.notna()]\n",
        "df2.head(3)"
      ]
    },
    {
      "cell_type": "markdown",
      "metadata": {
        "id": "Y-qNsUlmjS25"
      },
      "source": [
        "Apparently, for this dataset there is no missing data. But we can use the above code cell for bioactivity data of other target protein."
      ]
    },
    {
      "cell_type": "markdown",
      "metadata": {
        "id": "5H4sSFAWhV9B"
      },
      "source": [
        "## **Data pre-processing of the bioactivity data**"
      ]
    },
    {
      "cell_type": "markdown",
      "metadata": {
        "id": "tO22XVlzhkXR"
      },
      "source": [
        "### **Labeling compounds as either being active, inactive or intermediate**\n",
        "The bioactivity data is in the IC50 unit. Compounds having values of less than 1000 nM will be considered to be **active** while those greater than 10,000 nM will be considered to be **inactive**. As for those values in between 1,000 and 10,000 nM will be referred to as **intermediate**. "
      ]
    },
    {
      "cell_type": "code",
      "execution_count": null,
      "metadata": {
        "id": "1E8rz7oMOd-5"
      },
      "outputs": [],
      "source": [
        "poliovirus_class = []\n",
        "\n",
        "for i in df2.standard_value:\n",
        "  if float(i) >= 10000:\n",
        "    poliovirus_class.append(\"inactive\")\n",
        "  elif float (i) <= 1000:\n",
        "    poliovirus_class.append(\"active\")\n",
        "  else:\n",
        "    poliovirus_class.append(\"intermidiate\")"
      ]
    },
    {
      "cell_type": "markdown",
      "metadata": {
        "id": "PFsmb2N9hnTB"
      },
      "source": [
        "### **Iterate the *molecule_chembl_id* to a list**"
      ]
    },
    {
      "cell_type": "code",
      "execution_count": null,
      "metadata": {
        "id": "DMJng9xnVnMM"
      },
      "outputs": [],
      "source": [
        "mol_cid = []\n",
        "\n",
        "for i in df2.molecule_chembl_id:\n",
        "  mol_cid.append(i)"
      ]
    },
    {
      "cell_type": "markdown",
      "metadata": {
        "id": "YRieJc9dhuVZ"
      },
      "source": [
        "### **Iterate *canonical_smiles* to a list**"
      ]
    },
    {
      "cell_type": "code",
      "execution_count": null,
      "metadata": {
        "id": "AT8qUBk1eVmj"
      },
      "outputs": [],
      "source": [
        "canonical_smiles = []\n",
        "for i in df2.canonical_smiles:\n",
        "  canonical_smiles.append(i)"
      ]
    },
    {
      "cell_type": "markdown",
      "metadata": {
        "id": "DZFugUXxhwjE"
      },
      "source": [
        "### **Iterate *standard_value* to a list**"
      ]
    },
    {
      "cell_type": "code",
      "execution_count": null,
      "metadata": {
        "id": "ZaPt-FjEZNBe"
      },
      "outputs": [],
      "source": [
        "standard_value = []\n",
        "for i in df2.standard_value:\n",
        "  standard_value.append(i)"
      ]
    },
    {
      "cell_type": "markdown",
      "metadata": {
        "id": "Nv2dzid_hzKd"
      },
      "source": [
        "### **Combine the 4 lists into a dataframe**"
      ]
    },
    {
      "cell_type": "code",
      "execution_count": null,
      "metadata": {
        "id": "TWlYO4I3Wrh-"
      },
      "outputs": [],
      "source": [
        "data_tuples = list(zip(mol_cid,canonical_smiles, poliovirus_class,standard_value))\n",
        "df3 = pd.DataFrame(data_tuples, columns= ['molecule_chembl_id','canonical_smiles','poliovirus_class','standard_value'])"
      ]
    },
    {
      "cell_type": "code",
      "execution_count": null,
      "metadata": {
        "colab": {
          "base_uri": "https://localhost:8080/",
          "height": 677
        },
        "id": "Li64nUiZQ-y2",
        "outputId": "74917d55-6cb7-4460-f1be-bb2e19dea465"
      },
      "outputs": [
        {
          "output_type": "execute_result",
          "data": {
            "text/html": [
              "<div>\n",
              "<style scoped>\n",
              "    .dataframe tbody tr th:only-of-type {\n",
              "        vertical-align: middle;\n",
              "    }\n",
              "\n",
              "    .dataframe tbody tr th {\n",
              "        vertical-align: top;\n",
              "    }\n",
              "\n",
              "    .dataframe thead th {\n",
              "        text-align: right;\n",
              "    }\n",
              "</style>\n",
              "<table border=\"1\" class=\"dataframe\">\n",
              "  <thead>\n",
              "    <tr style=\"text-align: right;\">\n",
              "      <th></th>\n",
              "      <th>molecule_chembl_id</th>\n",
              "      <th>canonical_smiles</th>\n",
              "      <th>poliovirus_class</th>\n",
              "      <th>standard_value</th>\n",
              "    </tr>\n",
              "  </thead>\n",
              "  <tbody>\n",
              "    <tr>\n",
              "      <th>0</th>\n",
              "      <td>CHEMBL174629</td>\n",
              "      <td>O=C(O)c1ccc2c(c1)nc(-c1cccs1)n2C1CCCCC1</td>\n",
              "      <td>inactive</td>\n",
              "      <td>250000.0</td>\n",
              "    </tr>\n",
              "    <tr>\n",
              "      <th>1</th>\n",
              "      <td>CHEMBL174836</td>\n",
              "      <td>O=C(O)c1ccc2c(c1)nc(-c1ccncc1)n2C1CCCCC1</td>\n",
              "      <td>inactive</td>\n",
              "      <td>500000.0</td>\n",
              "    </tr>\n",
              "    <tr>\n",
              "      <th>2</th>\n",
              "      <td>CHEMBL174542</td>\n",
              "      <td>CC1CCCCC1n1c(-c2ccccn2)nc2cc(C(=O)O)ccc21</td>\n",
              "      <td>inactive</td>\n",
              "      <td>500000.0</td>\n",
              "    </tr>\n",
              "    <tr>\n",
              "      <th>3</th>\n",
              "      <td>CHEMBL173718</td>\n",
              "      <td>CC(C)=Cc1nc2cc(C(=O)O)ccc2n1C1CCCCC1</td>\n",
              "      <td>inactive</td>\n",
              "      <td>500000.0</td>\n",
              "    </tr>\n",
              "    <tr>\n",
              "      <th>4</th>\n",
              "      <td>CHEMBL178076</td>\n",
              "      <td>COc1ccc(CCNC(=O)c2ccc3c(c2)nc(-c2ccccn2)n3C2CC...</td>\n",
              "      <td>inactive</td>\n",
              "      <td>500000.0</td>\n",
              "    </tr>\n",
              "    <tr>\n",
              "      <th>5</th>\n",
              "      <td>CHEMBL362058</td>\n",
              "      <td>O=C(O)c1ccc2c(c1)nc(-c1ccco1)n2C1CCCCC1</td>\n",
              "      <td>inactive</td>\n",
              "      <td>500000.0</td>\n",
              "    </tr>\n",
              "    <tr>\n",
              "      <th>6</th>\n",
              "      <td>CHEMBL426227</td>\n",
              "      <td>O=C(O)c1ccc2c(c1)nc(-c1ncc[nH]1)n2C1CCCCC1</td>\n",
              "      <td>inactive</td>\n",
              "      <td>250000.0</td>\n",
              "    </tr>\n",
              "    <tr>\n",
              "      <th>7</th>\n",
              "      <td>CHEMBL366941</td>\n",
              "      <td>COc1ccc(CNC(=O)c2ccc3c(c2)nc(-c2ccccn2)n3C2CCC...</td>\n",
              "      <td>inactive</td>\n",
              "      <td>500000.0</td>\n",
              "    </tr>\n",
              "    <tr>\n",
              "      <th>8</th>\n",
              "      <td>CHEMBL175177</td>\n",
              "      <td>O=C(O)c1ccc2c(c1)nc(-c1ccoc1)n2C1CCCCC1</td>\n",
              "      <td>inactive</td>\n",
              "      <td>250000.0</td>\n",
              "    </tr>\n",
              "    <tr>\n",
              "      <th>9</th>\n",
              "      <td>CHEMBL368168</td>\n",
              "      <td>Cn1cccc1-c1nc2cc(C(=O)O)ccc2n1C1CCCCC1</td>\n",
              "      <td>inactive</td>\n",
              "      <td>500000.0</td>\n",
              "    </tr>\n",
              "    <tr>\n",
              "      <th>10</th>\n",
              "      <td>CHEMBL174683</td>\n",
              "      <td>O=C(O)c1ccc2c(c1)nc(-c1ccccn1)n2C1CCCCC1</td>\n",
              "      <td>inactive</td>\n",
              "      <td>500000.0</td>\n",
              "    </tr>\n",
              "    <tr>\n",
              "      <th>11</th>\n",
              "      <td>CHEMBL176662</td>\n",
              "      <td>O=C(O)c1ccc2c(c1)nc(-c1ccc[nH]1)n2C1CCCCC1</td>\n",
              "      <td>inactive</td>\n",
              "      <td>500000.0</td>\n",
              "    </tr>\n",
              "    <tr>\n",
              "      <th>12</th>\n",
              "      <td>CHEMBL361434</td>\n",
              "      <td>O=C(O)c1ccc2c(c1)nc(-c1ccccc1)n2C1CCCCC1</td>\n",
              "      <td>inactive</td>\n",
              "      <td>250000.0</td>\n",
              "    </tr>\n",
              "    <tr>\n",
              "      <th>13</th>\n",
              "      <td>CHEMBL174564</td>\n",
              "      <td>O=C(O)c1ccc2c(c1)nc(-c1ccsc1)n2C1CCCCC1</td>\n",
              "      <td>inactive</td>\n",
              "      <td>250000.0</td>\n",
              "    </tr>\n",
              "    <tr>\n",
              "      <th>14</th>\n",
              "      <td>CHEMBL434136</td>\n",
              "      <td>O=C(O)c1ccc2c(c1)nc(-c1nccs1)n2C1CCCCC1</td>\n",
              "      <td>inactive</td>\n",
              "      <td>500000.0</td>\n",
              "    </tr>\n",
              "    <tr>\n",
              "      <th>15</th>\n",
              "      <td>CHEMBL368626</td>\n",
              "      <td>O=C(O)c1ccc2c(c1)nc(-c1ccccn1)n2C1CCCC1</td>\n",
              "      <td>inactive</td>\n",
              "      <td>500000.0</td>\n",
              "    </tr>\n",
              "    <tr>\n",
              "      <th>16</th>\n",
              "      <td>CHEMBL174838</td>\n",
              "      <td>O=C(O)c1ccc2c(c1)nc(-c1cccnc1)n2C1CCCCC1</td>\n",
              "      <td>inactive</td>\n",
              "      <td>250000.0</td>\n",
              "    </tr>\n",
              "    <tr>\n",
              "      <th>17</th>\n",
              "      <td>CHEMBL216000</td>\n",
              "      <td>O=C(O)c1ccc2c(C3CCCCC3)c(-c3ccoc3)[nH]c2c1</td>\n",
              "      <td>inactive</td>\n",
              "      <td>125000.0</td>\n",
              "    </tr>\n",
              "    <tr>\n",
              "      <th>18</th>\n",
              "      <td>CHEMBL386508</td>\n",
              "      <td>Cn1c(-c2ccoc2)c(C2CCCCC2)c2ccc(C(=O)O)cc21</td>\n",
              "      <td>inactive</td>\n",
              "      <td>125000.0</td>\n",
              "    </tr>\n",
              "    <tr>\n",
              "      <th>19</th>\n",
              "      <td>CHEMBL609725</td>\n",
              "      <td>Nc1nc(=O)n([C@@H]2O[C@H](COP(=O)(O)OP(=O)(O)OP...</td>\n",
              "      <td>intermidiate</td>\n",
              "      <td>1080.0</td>\n",
              "    </tr>\n",
              "  </tbody>\n",
              "</table>\n",
              "</div>"
            ],
            "text/plain": [
              "   molecule_chembl_id  ... standard_value\n",
              "0        CHEMBL174629  ...       250000.0\n",
              "1        CHEMBL174836  ...       500000.0\n",
              "2        CHEMBL174542  ...       500000.0\n",
              "3        CHEMBL173718  ...       500000.0\n",
              "4        CHEMBL178076  ...       500000.0\n",
              "5        CHEMBL362058  ...       500000.0\n",
              "6        CHEMBL426227  ...       250000.0\n",
              "7        CHEMBL366941  ...       500000.0\n",
              "8        CHEMBL175177  ...       250000.0\n",
              "9        CHEMBL368168  ...       500000.0\n",
              "10       CHEMBL174683  ...       500000.0\n",
              "11       CHEMBL176662  ...       500000.0\n",
              "12       CHEMBL361434  ...       250000.0\n",
              "13       CHEMBL174564  ...       250000.0\n",
              "14       CHEMBL434136  ...       500000.0\n",
              "15       CHEMBL368626  ...       500000.0\n",
              "16       CHEMBL174838  ...       250000.0\n",
              "17       CHEMBL216000  ...       125000.0\n",
              "18       CHEMBL386508  ...       125000.0\n",
              "19       CHEMBL609725  ...         1080.0\n",
              "\n",
              "[20 rows x 4 columns]"
            ]
          },
          "metadata": {},
          "execution_count": 72
        }
      ],
      "source": [
        "df3"
      ]
    },
    {
      "cell_type": "markdown",
      "metadata": {
        "id": "vE0Vvo6ic3MI"
      },
      "source": [
        "### **Alternative method**"
      ]
    },
    {
      "cell_type": "code",
      "execution_count": null,
      "metadata": {
        "id": "VICiiCtqc2ne"
      },
      "outputs": [],
      "source": [
        "# selection = ['molecule_chembl_id', 'canonical_smiles', 'standard_value']\n",
        "# df3 = df2[selection]\n",
        "# df3"
      ]
    },
    {
      "cell_type": "code",
      "execution_count": null,
      "metadata": {
        "id": "d8nV77oWdbq1"
      },
      "outputs": [],
      "source": [
        "# pd.concat([df3,pd.Series(bioactivity_class)], axis=1)"
      ]
    },
    {
      "cell_type": "markdown",
      "metadata": {
        "id": "9tlgyexWh7YJ"
      },
      "source": [
        "Saves dataframe to CSV file"
      ]
    },
    {
      "cell_type": "code",
      "execution_count": null,
      "metadata": {
        "id": "nSNia7suXstR"
      },
      "outputs": [],
      "source": [
        "df3.to_csv('poliovirus_preprocessed_data.csv', index=False)"
      ]
    },
    {
      "cell_type": "code",
      "source": [
        "from google.colab import files\n",
        "df3.to_csv('poliovirus_preprocessed_data.csv', index=False)\n",
        "files.download('poliovirus_preprocessed_data.csv')"
      ],
      "metadata": {
        "colab": {
          "base_uri": "https://localhost:8080/",
          "height": 17
        },
        "id": "gqI8o1yvIBE0",
        "outputId": "f45c4038-6b12-44ca-eb76-3c64810f5f03"
      },
      "execution_count": null,
      "outputs": [
        {
          "output_type": "display_data",
          "data": {
            "application/javascript": [
              "\n",
              "    async function download(id, filename, size) {\n",
              "      if (!google.colab.kernel.accessAllowed) {\n",
              "        return;\n",
              "      }\n",
              "      const div = document.createElement('div');\n",
              "      const label = document.createElement('label');\n",
              "      label.textContent = `Downloading \"${filename}\": `;\n",
              "      div.appendChild(label);\n",
              "      const progress = document.createElement('progress');\n",
              "      progress.max = size;\n",
              "      div.appendChild(progress);\n",
              "      document.body.appendChild(div);\n",
              "\n",
              "      const buffers = [];\n",
              "      let downloaded = 0;\n",
              "\n",
              "      const channel = await google.colab.kernel.comms.open(id);\n",
              "      // Send a message to notify the kernel that we're ready.\n",
              "      channel.send({})\n",
              "\n",
              "      for await (const message of channel.messages) {\n",
              "        // Send a message to notify the kernel that we're ready.\n",
              "        channel.send({})\n",
              "        if (message.buffers) {\n",
              "          for (const buffer of message.buffers) {\n",
              "            buffers.push(buffer);\n",
              "            downloaded += buffer.byteLength;\n",
              "            progress.value = downloaded;\n",
              "          }\n",
              "        }\n",
              "      }\n",
              "      const blob = new Blob(buffers, {type: 'application/binary'});\n",
              "      const a = document.createElement('a');\n",
              "      a.href = window.URL.createObjectURL(blob);\n",
              "      a.download = filename;\n",
              "      div.appendChild(a);\n",
              "      a.click();\n",
              "      div.remove();\n",
              "    }\n",
              "  "
            ],
            "text/plain": [
              "<IPython.core.display.Javascript object>"
            ]
          },
          "metadata": {}
        },
        {
          "output_type": "display_data",
          "data": {
            "application/javascript": [
              "download(\"download_c994c558-59f0-4cff-abdd-455ce261f8e4\", \"poliovirus_preprocessed_data.csv\", 1585)"
            ],
            "text/plain": [
              "<IPython.core.display.Javascript object>"
            ]
          },
          "metadata": {}
        }
      ]
    },
    {
      "cell_type": "code",
      "execution_count": null,
      "metadata": {
        "colab": {
          "base_uri": "https://localhost:8080/"
        },
        "id": "UuZf5-MEd-H5",
        "outputId": "cfc69669-c108-43df-b16d-c7b742c5058e"
      },
      "outputs": [
        {
          "output_type": "stream",
          "name": "stdout",
          "text": [
            "total 28\n",
            "-rw-r--r-- 1 root root  1585 Dec  8 12:59  bioactivity_preprocessed_data.csv\n",
            "drwx------ 6 root root  4096 Dec  8 10:22  gdrive\n",
            "-rw-r--r-- 1 root root 11385 Dec  8 13:12 'Poliovirus(homosapiens).csv'\n",
            "-rw-r--r-- 1 root root  1585 Dec  8 13:14  poliovirus_preprocessed_data.csv\n",
            "drwxr-xr-x 1 root root  4096 Dec  3 14:33  sample_data\n"
          ]
        }
      ],
      "source": [
        "! ls -l"
      ]
    },
    {
      "cell_type": "markdown",
      "metadata": {
        "id": "_C7rqJKTePhV"
      },
      "source": [
        "Let's copy to the Google Drive"
      ]
    },
    {
      "cell_type": "code",
      "execution_count": null,
      "metadata": {
        "id": "ZfyvJcENeHDB"
      },
      "outputs": [],
      "source": [
        "! cp poliovirus_preprocessed_data.csv \"/content/gdrive/My Drive/Colab Notebooks/polio\""
      ]
    },
    {
      "cell_type": "code",
      "execution_count": null,
      "metadata": {
        "colab": {
          "base_uri": "https://localhost:8080/"
        },
        "id": "7PU7yU9leLV5",
        "outputId": "8289adf4-ef3e-407a-bdb3-1d0e3fa51d3f"
      },
      "outputs": [
        {
          "output_type": "stream",
          "name": "stdout",
          "text": [
            "'/content/gdrive/My Drive/Colab Notebooks/polio'\n"
          ]
        }
      ],
      "source": [
        "! ls \"/content/gdrive/My Drive/Colab Notebooks/polio\""
      ]
    },
    {
      "cell_type": "markdown",
      "metadata": {
        "id": "ZywB5K_Dlawb"
      },
      "source": [
        "---"
      ]
    }
  ],
  "metadata": {
    "colab": {
      "collapsed_sections": [],
      "name": "Poliovirus.ipynb",
      "provenance": []
    },
    "kernelspec": {
      "display_name": "Python 3",
      "language": "python",
      "name": "python3"
    },
    "language_info": {
      "codemirror_mode": {
        "name": "ipython",
        "version": 3
      },
      "file_extension": ".py",
      "mimetype": "text/x-python",
      "name": "python",
      "nbconvert_exporter": "python",
      "pygments_lexer": "ipython3",
      "version": "3.8.8"
    }
  },
  "nbformat": 4,
  "nbformat_minor": 0
}